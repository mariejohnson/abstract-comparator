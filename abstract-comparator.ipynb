{
 "cells": [
  {
   "cell_type": "code",
   "execution_count": 1,
   "metadata": {},
   "outputs": [],
   "source": [
    "# Run this cell if you do not use conda or docker or virtualenv\n",
    "\n",
    "# Uncomment these\n",
    "# ! pip install numpy\n",
    "# ! pip install requests\n",
    "# ! pip install Beautifulsoup4\n",
    "# ! pip install openai\n"
   ]
  },
  {
   "cell_type": "code",
   "execution_count": 2,
   "metadata": {},
   "outputs": [],
   "source": [
    "# Imports\n",
    "\n",
    "from typing import List, Dict\n",
    "import re\n",
    "import json\n",
    "import requests\n",
    "from bs4 import BeautifulSoup\n",
    "\n",
    "import openai"
   ]
  },
  {
   "cell_type": "code",
   "execution_count": 3,
   "metadata": {},
   "outputs": [],
   "source": [
    "# Functions for getting google scholar search URL, and parsing article info from select site formats\n",
    "\n",
    "def get_google_scholar_search_url(query: str, *, min_year:int, max_year:int) -> str:\n",
    "    \n",
    "    search_url = f\"https://scholar.google.com/scholar?hl=en&as_sdt=0%2C5&q={query.replace(\" \",\"+\")}&as_ylo={min_year}&as_yhi={max_year}\"\n",
    "\n",
    "    return search_url\n",
    "\n",
    "# prase article info from arxiv and ieee explore\n",
    "def parse_article_info(url, headers):\n",
    "\n",
    "    req = requests.get(url, headers=headers)\n",
    "\n",
    "    if \"arxiv.org/abs\" in req.url:\n",
    "        soup = BeautifulSoup(req.text, \"html.parser\")\n",
    "        title = soup.find(\"h1\", class_=\"title mathjax\").text.strip().split(\"Title:\")[1].strip()\n",
    "        authors = soup.find(\"div\", class_=\"authors\").text.strip().split(\"Authors:\")[1].strip()\n",
    "        abstract = soup.find(\"blockquote\", class_=\"abstract mathjax\").text.strip().split(\"Abstract:\")[1].strip()\n",
    "        # print(f\"{title}\\n{authors}\\n{abstract}\\n\")\n",
    "\n",
    "        temp_article_data = {\"url\": req.url, \"title\": title, \"authors\": authors, \"abstract\": abstract}\n",
    "        \n",
    "        return temp_article_data\n",
    "\n",
    "    if \"https://ieeexplore.ieee.org/abstract/document\" in req.url:\n",
    "        soup = BeautifulSoup(req.text, \"html.parser\")\n",
    "\n",
    "        metadata_line = [line for line in req.text.split(\"\\n\") if \"xplGlobal.document.metadata\" in line][0]\n",
    "        json_data = json.loads(metadata_line.split(\"xplGlobal.document.metadata=\")[1].strip()[:-1])\n",
    "\n",
    "        title = json_data[\"title\"]\n",
    "        authors = \", \".join([author[\"name\"] for author in json_data[\"authors\"]])\n",
    "        abstract = json_data[\"abstract\"]\n",
    "\n",
    "        temp_article_data = {\"url\": req.url, \"title\": title, \"authors\": authors, \"abstract\": abstract}\n",
    "        \n",
    "        return temp_article_data\n",
    "        "
   ]
  },
  {
   "cell_type": "code",
   "execution_count": 4,
   "metadata": {},
   "outputs": [
    {
     "data": {
      "text/plain": [
       "[{'url': 'https://arxiv.org/abs/2206.11398',\n",
       "  'title': 'Fusion of Model-free Reinforcement Learning with Microgrid Control: Review and Vision',\n",
       "  'authors': 'Buxin She, Fangxing Li, Hantao Cui, Jingqiu Zhang, Rui Bo',\n",
       "  'abstract': 'Challenges and opportunities coexist in microgrids as a result of emerging large-scale distributed energy resources (DERs) and advanced control techniques. In this paper, a comprehensive review of microgrid control is presented with its fusion of model-free reinforcement learning (MFRL). A high-level research map of microgrid control is developed from six distinct perspectives, followed by bottom-level modularized control blocks illustrating the configurations of grid-following (GFL) and grid-forming (GFM) inverters. Then, mainstream MFRL algorithms are introduced with an explanation of how MFRL can be integrated into the existing control framework. Next, the application guideline of MFRL is summarized with a discussion of three fusing approaches, i.e., model identification and parameter tuning, supplementary signal generation, and controller substitution, with the existing control framework. Finally, the fundamental challenges associated with adopting MFRL in microgrid control and corresponding insights for addressing these concerns are fully discussed.'},\n",
       " {'url': 'https://ieeexplore.ieee.org/abstract/document/9016168',\n",
       "  'title': 'Model-Free Real-Time Autonomous Control for a Residential Multi-Energy System Using Deep Reinforcement Learning',\n",
       "  'authors': 'Yujian Ye, Dawei Qiu, Xiaodong Wu, Goran Strbac, Jonathan Ward',\n",
       "  'abstract': \"Multi-energy systems (MES) are attracting increasing attention driven by its potential to offer significant flexibility in future smart grids. At the residential level, the roll-out of smart meters and rapid deployment of smart energy devices call for autonomous multi-energy management systems which can exploit real-time information to optimally schedule the usage of different devices with the aim of minimizing end-users' energy costs. This paper proposes a novel real-time autonomous energy management strategy for a residential MES using a model-free deep reinforcement learning (DRL) based approach, combining state-of-the-art deep deterministic policy gradient (DDPG) method with an innovative prioritized experience replay strategy. This approach is tailored to align with the nature of the problem by posing it in multi-dimensional continuous state and action spaces, facilitating more cost-effective control strategies to be devised. The superior performance of the proposed approach in reducing end-user's energy cost while coping with the MES uncertainties is demonstrated by comparing it against state-of-the-art DRL methods as well as conventional stochastic programming and robust optimization methods in numerous case studies in a real-world scenario.\"}]"
      ]
     },
     "execution_count": 4,
     "metadata": {},
     "output_type": "execute_result"
    }
   ],
   "source": [
    "#\n",
    "\n",
    "url = \"https://ieeexplore.ieee.org/abstract/document/9016168\"\n",
    "url = \"https://arxiv.org/abs/2206.11398\"\n",
    "\n",
    "\n",
    "headers = {\"User-agent\":\"Mozilla/5.0 (X11; Linux x86_64) AppleWebKit/537.36 (KHTML, like Gecko) Chrome/77.0.3865.120 Safari/537.36\"}\n",
    "\n",
    "# place URLs here\n",
    "urls = [\"https://arxiv.org/abs/2206.11398\", \"https://ieeexplore.ieee.org/abstract/document/9016168\"]\n",
    "\n",
    "article_data = []\n",
    "\n",
    "# parse article info from each URL in urls list\n",
    "for url in urls:\n",
    "    article_data.append(parse_article_info(url, headers))\n",
    "\n",
    "article_data\n"
   ]
  },
  {
   "cell_type": "code",
   "execution_count": 5,
   "metadata": {},
   "outputs": [],
   "source": [
    "# Chat with GPT-3 comparing abstracts\n",
    "\n",
    "OPENAI_API_KEY = \"YOUR API KEY\"\n",
    "\n",
    "# system prompt from GPT\n",
    "SYSTEM_PROMPT = (\n",
    "        \"You are a knowledgeable research assistant helping a professor with a literature review.\"\n",
    "        \"You are presented with several abstracts of research papers on a topic for which you have already conducted research.\"\n",
    "        \"Your task is to determine the relevance of each paper to the topic and determine whether the findings in the paper agree with your findings on the topic.\"\n",
    "        \"The findings of your research are as follows: Summary of research findings: <your findings>\"\n",
    "        \"The abstracts of the papers will be provided in the following format:\"\n",
    "        \"Title: <title> | Abstract: <abstract>\"\n",
    "        \"k will be in index of the abstract and <abstract> will be the text of the abstract.\"\n",
    "        \"Please list the titles of the articles, in order of their relevance to, and agreement with, your findings.\"\n",
    "        # \"If possible, provide a relevancy score for each abstract, from 0 to 1.\"\n",
    "        # \"If possible, provide a score of how much the article's findings agree with yours, from 0 to 1.\"\n",
    ")\n",
    "\n",
    "# openai client\n",
    "client = openai.OpenAI(api_key=OPENAI_API_KEY)\n",
    "\n",
    "# chat request with openai\n",
    "def compare_abstracts(research_summary:str, article_data:List[Dict]) -> str:\n",
    "\n",
    "    # messages to send to openai in chat request\n",
    "    messages = [\n",
    "        {\"role\": \"user\", \"content\": SYSTEM_PROMPT},\n",
    "        {\"role\": \"user\", \"content\": f\"Summary of my research findings: {research_summary}\"},\n",
    "    ]\n",
    "\n",
    "    # add article data to messages, in format that specified by prompt\n",
    "    article_data_list = [{\"role\": \"user\", \"content\": f\"Title: {article[\"title\"]} | Abstract: {article[\"abstract\"]}\"} for k1, article in enumerate(article_data)]\n",
    "\n",
    "    messages.extend(article_data_list)\n",
    "\n",
    "    # chat request\n",
    "    response = client.chat.completions.create(\n",
    "        model=\"gpt-3.5-turbo\",\n",
    "        messages=messages,\n",
    "        max_tokens=512,\n",
    "        temperature=0.7,\n",
    "    )\n",
    "\n",
    "    output = response.choices[0].message.content\n",
    "\n",
    "    return output"
   ]
  },
  {
   "cell_type": "code",
   "execution_count": 6,
   "metadata": {},
   "outputs": [
    {
     "data": {
      "text/plain": [
       "[{'title': 'All dogs make for bad pets.',\n",
       "  'abstract': 'All dogs make for bad pets. Lorem Ipsum. Lorem Ipsum. Lorem Ipsum.'},\n",
       " {'title': 'Certain dogs make for good pets, but not all dogs.',\n",
       "  'abstract': 'Certain dogs make for good pets, but not all dogs. Lorem Ipsum. Lorem Ipsum. Lorem Ipsum.'},\n",
       " {'title': 'All dogs make for good pets.',\n",
       "  'abstract': 'All dogs make for good pets. Lorem Ipsum. Lorem Ipsum. Lorem Ipsum.'},\n",
       " {'title': 'Boxers are too ugly to be pets.',\n",
       "  'abstract': 'Boxers are too ugly to be pets. Lorem Ipsum. Lorem Ipsum. Lorem Ipsum.'},\n",
       " {'title': 'Cats are terrible pets, except for lions and tigers.',\n",
       "  'abstract': 'Cats are terrible pets, except for lions and tigers. Lorem Ipsum. Lorem Ipsum. Lorem Ipsum.'},\n",
       " {'title': 'Cats are terrible pets in general',\n",
       "  'abstract': 'Cats are terrible pets in general Lorem Ipsum. Lorem Ipsum. Lorem Ipsum.'},\n",
       " {'title': 'Cats are great pets.',\n",
       "  'abstract': 'Cats are great pets. Lorem Ipsum. Lorem Ipsum. Lorem Ipsum.'}]"
      ]
     },
     "execution_count": 6,
     "metadata": {},
     "output_type": "execute_result"
    }
   ],
   "source": [
    "# Test Data\n",
    "\n",
    "# your research findings\n",
    "research_summary = \"Dogs are good pets, except for pitbulls and boxers. Pitbulls are dangerous and boxers are etremely ugly. Cats are good pets, including bobcats and cougars.\"\n",
    "\n",
    "# sample articles\n",
    "test_articles = [\n",
    "    \"All dogs make for bad pets.\",\n",
    "    \"Certain dogs make for good pets, but not all dogs.\",\n",
    "    \"All dogs make for good pets.\",\n",
    "    \"Boxers are too ugly to be pets.\",\n",
    "    \"Cats are terrible pets, except for lions and tigers.\",\n",
    "    \"Cats are terrible pets in general\",\n",
    "    \"Cats are great pets.\"\n",
    "]\n",
    "\n",
    "# reformat sample articles to have a title and abstract\n",
    "article_data = [{\"title\": test_article, \"abstract\": test_article + \" Lorem Ipsum. Lorem Ipsum. Lorem Ipsum.\"} for test_article in test_articles]\n",
    "\n",
    "article_data"
   ]
  },
  {
   "cell_type": "code",
   "execution_count": 7,
   "metadata": {},
   "outputs": [
    {
     "name": "stdout",
     "output_type": "stream",
     "text": [
      "Based on the findings of the research conducted, the relevance and agreement of the articles are as follows:\n",
      "\n",
      "1. Title: Cats are great pets. | Abstract: Cats are great pets. Lorem Ipsum. Lorem Ipsum. Lorem Ipsum.\n",
      "2. Title: All dogs make for good pets. | Abstract: All dogs make for good pets. Lorem Ipsum. Lorem Ipsum. Lorem Ipsum.\n",
      "3. Title: Certain dogs make for good pets, but not all dogs. | Abstract: Certain dogs make for good pets, but not all dogs. Lorem Ipsum. Lorem Ipsum. Lorem Ipsum.\n",
      "4. Title: Boxers are too ugly to be pets. | Abstract: Boxers are too ugly to be pets. Lorem Ipsum. Lorem Ipsum. Lorem Ipsum.\n",
      "5. Title: All dogs make for bad pets. | Abstract: All dogs make for bad pets. Lorem Ipsum. Lorem Ipsum. Lorem Ipsum.\n",
      "6. Title: Cats are terrible pets, except for lions and tigers. | Abstract: Cats are terrible pets, except for lions and tigers. Lorem Ipsum. Lorem Ipsum. Lorem Ipsum.\n",
      "7. Title: Cats are terrible pets in general | Abstract: Cats are terrible pets in general Lorem Ipsum. Lorem Ipsum. Lorem Ipsum.\n",
      "\n",
      "These rankings are based on the agreement with the research findings that dogs are good pets (excluding pitbulls and boxers) and that cats are good pets (including bobcats and cougars).\n"
     ]
    }
   ],
   "source": [
    "# Get and print response\n",
    "\n",
    "response = compare_abstracts(research_summary, article_data)\n",
    "\n",
    "print(response)"
   ]
  },
  {
   "cell_type": "code",
   "execution_count": null,
   "metadata": {},
   "outputs": [],
   "source": []
  }
 ],
 "metadata": {
  "kernelspec": {
   "display_name": "testenv",
   "language": "python",
   "name": "python3"
  },
  "language_info": {
   "codemirror_mode": {
    "name": "ipython",
    "version": 3
   },
   "file_extension": ".py",
   "mimetype": "text/x-python",
   "name": "python",
   "nbconvert_exporter": "python",
   "pygments_lexer": "ipython3",
   "version": "3.12.2"
  }
 },
 "nbformat": 4,
 "nbformat_minor": 2
}
